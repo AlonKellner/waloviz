{
 "cells": [
  {
   "cell_type": "code",
   "execution_count": null,
   "metadata": {},
   "outputs": [],
   "source": [
    "!pip uninstall -y waloviz"
   ]
  },
  {
   "cell_type": "code",
   "execution_count": null,
   "metadata": {},
   "outputs": [],
   "source": [
    "import sys\n",
    "\n",
    "sys.path.append(\"/workspaces/waloviz/src\")\n",
    "sys.path.append(\"/home/runner/work/waloviz/waloviz/src\")"
   ]
  },
  {
   "cell_type": "code",
   "execution_count": null,
   "metadata": {},
   "outputs": [],
   "source": [
    "import waloviz as wv\n",
    "\n",
    "wv.extension()"
   ]
  },
  {
   "cell_type": "code",
   "execution_count": null,
   "metadata": {},
   "outputs": [],
   "source": [
    "url = \"https://www.mmsp.ece.mcgill.ca/Documents/AudioFormats/WAVE/Samples/AFsp/M1F1-Alaw-AFsp.wav\"\n",
    "wv.Audio(url, minimal=True)"
   ]
  },
  {
   "cell_type": "code",
   "execution_count": null,
   "metadata": {},
   "outputs": [],
   "source": [
    "url = \"https://www2.cs.uic.edu/~i101/SoundFiles/CantinaBand3.wav\"\n",
    "wv.Audio(url, minimal=True)"
   ]
  },
  {
   "cell_type": "code",
   "execution_count": null,
   "metadata": {},
   "outputs": [],
   "source": [
    "wv.Audio(\"https://www2.cs.uic.edu/~i101/SoundFiles/CantinaBand3.wav\", extended=True)"
   ]
  },
  {
   "cell_type": "code",
   "execution_count": null,
   "metadata": {},
   "outputs": [],
   "source": [
    "wv.Audio(\"https://www2.cs.uic.edu/~i101/SoundFiles/CantinaBand3.wav\")"
   ]
  },
  {
   "cell_type": "code",
   "execution_count": null,
   "metadata": {},
   "outputs": [],
   "source": [
    "wv.Audio(\"http://ccrma.stanford.edu/~jos/mp3/pno-cs.mp3\")"
   ]
  },
  {
   "cell_type": "code",
   "execution_count": null,
   "metadata": {},
   "outputs": [],
   "source": [
    "import numpy as np\n",
    "\n",
    "sr = 8000\n",
    "sig = np.sin(np.linspace(0, 2 * np.pi * sr, sr) * 1000)\n",
    "wv.Audio((sig, sr), sr=4000)"
   ]
  },
  {
   "cell_type": "code",
   "execution_count": null,
   "metadata": {},
   "outputs": [],
   "source": [
    "import numpy as np\n",
    "\n",
    "sr = 8000\n",
    "sig = np.sin(np.linspace(0, 2 * np.pi * sr, sr) * 1000)\n",
    "wv.Audio(\n",
    "    (sig, sr),\n",
    "    {\"rand\": np.random.randn(10) * 1000, \"sig\": np.random.randn(10)},\n",
    "    over_curve_axes={\"rand\": \"y1\", \"sig\": \"y2\"},\n",
    ")"
   ]
  },
  {
   "cell_type": "code",
   "execution_count": null,
   "metadata": {},
   "outputs": [],
   "source": []
  }
 ],
 "metadata": {
  "kernelspec": {
   "display_name": "Python 3",
   "language": "python",
   "name": "python3"
  },
  "language_info": {
   "codemirror_mode": {
    "name": "ipython",
    "version": 3
   },
   "file_extension": ".py",
   "mimetype": "text/x-python",
   "name": "python",
   "nbconvert_exporter": "python",
   "pygments_lexer": "ipython3",
   "version": "3.10.14"
  }
 },
 "nbformat": 4,
 "nbformat_minor": 2
}
