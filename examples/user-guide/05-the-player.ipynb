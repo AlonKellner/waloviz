{
 "cells": [
  {
   "cell_type": "code",
   "execution_count": null,
   "metadata": {},
   "outputs": [],
   "source": [
    "%cd ..\n",
    "import sys\n",
    "\n",
    "sys.path.append(\"/workspaces/waloviz/src\")\n",
    "sys.path.append(\"/home/runner/work/waloviz/waloviz/src\")"
   ]
  },
  {
   "cell_type": "code",
   "execution_count": null,
   "metadata": {},
   "outputs": [],
   "source": [
    "import waloviz as wv\n",
    "\n",
    "wv.extension()"
   ]
  },
  {
   "cell_type": "markdown",
   "metadata": {},
   "source": [
    "The player of WaloViz hides a lot of functionality in plain sight, this guide goes through every feature that the player has to offer.  \n",
    "Use the next player to experiment with:"
   ]
  },
  {
   "cell_type": "code",
   "execution_count": null,
   "metadata": {},
   "outputs": [],
   "source": [
    "wv.Audio(\"local_data/waloviz.wav\")"
   ]
  },
  {
   "cell_type": "markdown",
   "metadata": {},
   "source": [
    "Buckle up and let's get started!\n",
    "\n",
    "## Core Built-In Usage\n",
    "There are 6 core functionalities built-into the player which you must know for basic interaction, they are pretty intuitive, but let's go through them:  \n",
    "1. A single click on the spectrogram - toggles play\\\\pause\n",
    "2. Clicking on the bottom progress - moves the current time\n",
    "3. Scrolling with the mouse wheel - zooms in\\\\out\n",
    "4. Dragging the mouse while pressing down - moves forwards\\\\backwards\n",
    "5. The small ↺ icon on the top left toolbar - resets to the initial view\n",
    "6. Clicking on the ``Download waloviz.html`` - downloads an HTML version of the player\n",
    "Try them, these will be your most used features by far.\n",
    "\n",
    "## Advanced Built-In Usage\n",
    "Here is a complete list of bulit-in features:  \n",
    "* You can follow the current time cursor as it moves! When you do, it will turn red to indicate that\n",
    "* A double click on the spectrogram - moves the current time and start following the curser (turns red)  \n",
    "* Any zoom, drag or ↺ - stops following the curser (turns white)\n",
    "* When the mouse is over the y-axis - move the y-axis (zoom\\\\move\\\\etc.)\n",
    "* The small square icon on the top left toolbar - activates Box-Zoom mode\n",
    "* When in Box-Zoom mode, dragging the mouse while pressing - zooms in to the highlighted section\n",
    "* The small ↓ icon on the top left toolbar - downloads a static PNG image of the player\n",
    "\n",
    "## Native Player Usage"
   ]
  },
  {
   "cell_type": "code",
   "execution_count": null,
   "metadata": {},
   "outputs": [],
   "source": [
    "wv.Audio(\"local_data/waloviz.wav\", native_player=True)"
   ]
  },
  {
   "cell_type": "markdown",
   "metadata": {},
   "source": [
    "Using the native player effectively is a bit difficult, but can make you much more productive, here is a list of tips:\n",
    "* Use it normally! Play and pause, skip to a specific moment in the audio, and change the volume\n",
    "* Press the indicated time on the native player, this focuses on the player, making keyboard shortcuts work!\n",
    "* When focused on a native player, pressing spacebar - toggles play\\\\pause\n",
    "* When focused on a native player, pressing right\\\\left - moves the current time cursor\n",
    "* For the full extent of options, press the three points on the right, with it you can download the audio file and even change the playback speed!\n",
    "\n",
    "> Some native player keyboard shortcuts conflict with the shortcuts of the website, download the player to try it in an isolated environment\n",
    "\n",
    "Now you're a truly certified WaloViz wizard, have fun!"
   ]
  },
  {
   "cell_type": "markdown",
   "metadata": {},
   "source": []
  }
 ],
 "metadata": {
  "kernelspec": {
   "display_name": "Python 3",
   "language": "python",
   "name": "python3"
  },
  "language_info": {
   "codemirror_mode": {
    "name": "ipython",
    "version": 3
   },
   "file_extension": ".py",
   "mimetype": "text/x-python",
   "name": "python",
   "nbconvert_exporter": "python",
   "pygments_lexer": "ipython3",
   "version": "2.7.-1"
  }
 },
 "nbformat": 4,
 "nbformat_minor": 2
}
