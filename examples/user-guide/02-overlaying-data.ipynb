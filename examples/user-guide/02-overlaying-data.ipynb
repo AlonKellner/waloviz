{
 "cells": [
  {
   "cell_type": "code",
   "execution_count": null,
   "metadata": {},
   "outputs": [],
   "source": [
    "import sys\n",
    "sys.path.append(\"/workspaces/waloviz/src\")\n",
    "sys.path.append(\"/home/runner/work/waloviz/waloviz/src\")"
   ]
  },
  {
   "cell_type": "markdown",
   "metadata": {},
   "source": [
    "## Overlaying a Waveform\n",
    "The most simple example of overlaying is using the waveform itself, we can get the waveform with `torchaudio`:  "
   ]
  },
  {
   "cell_type": "code",
   "execution_count": null,
   "metadata": {},
   "outputs": [],
   "source": [
    "import torchaudio\n",
    "wav, sr = torchaudio.load('https://www2.cs.uic.edu/~i101/SoundFiles/CantinaBand3.wav')"
   ]
  },
  {
   "cell_type": "markdown",
   "metadata": {},
   "source": [
    "To overlay the waveform, just add it as the second argument to the `wv.Audio` function:"
   ]
  },
  {
   "cell_type": "code",
   "execution_count": null,
   "metadata": {},
   "outputs": [],
   "source": [
    "import waloviz as wv\n",
    "wv.extension()\n",
    "wv.Audio('https://www2.cs.uic.edu/~i101/SoundFiles/CantinaBand3.wav', wav, minimal=True)\n",
    "wv.Audio((wav, sr), wav, minimal=True)\n",
    "wv.Audio((wav, sr), over_curve=wav, minimal=True)\n",
    "# All of the above create the exact same player, only the last one is displayed"
   ]
  },
  {
   "cell_type": "markdown",
   "metadata": {},
   "source": [
    "> You can see the range of waveform values on the right side vertical axis, to hide the waveform tap the little blue line icon on the bottom right side.\n",
    "\n",
    "In order to overlay more than one curve, you can add a list of curves, let's add the waveform envelope: "
   ]
  },
  {
   "cell_type": "code",
   "execution_count": null,
   "metadata": {},
   "outputs": [],
   "source": [
    "import torch\n",
    "envelope = torch.nn.functional.max_pool1d(wav, kernel_size=101, stride=50, padding=50)\n",
    "wv.Audio((wav, sr), [wav, envelope], minimal=True)"
   ]
  },
  {
   "cell_type": "markdown",
   "metadata": {},
   "source": [
    "> If you'll zoom in, you might notice that the orange curve does not envelope the blue curve exactly, this is because WaloViz skips values by default when given very long overlays, such as waveforms. This behavior keeps the player responsive and avoids unexpected errors.   \n",
    "> If you need WaloViz to avoid skipping values, you can set the `max_size` parameter to do so.  \n",
    "\n",
    "You can also control the curve names and colors like so: "
   ]
  },
  {
   "cell_type": "code",
   "execution_count": null,
   "metadata": {},
   "outputs": [],
   "source": [
    "wv.Audio(\n",
    "    (wav, sr), \n",
    "    {\"wav\": wav, \"envelope\": envelope}, \n",
    "    over_curve_colors={\"wav\": \"#5599FF\", \"envelope\": \"#33EE55\"}, \n",
    "    minimal=True\n",
    ")"
   ]
  },
  {
   "cell_type": "markdown",
   "metadata": {},
   "source": [
    "When you overlay a stereo audio, if the curve has only one channel it is duplicated, if it has two channels it is overlayed accordingly:  "
   ]
  },
  {
   "cell_type": "code",
   "execution_count": null,
   "metadata": {},
   "outputs": [],
   "source": [
    "url = 'https://www.mmsp.ece.mcgill.ca/Documents/AudioFormats/WAVE/Samples/AFsp/M1F1-Alaw-AFsp.wav'\n",
    "wav, sr = torchaudio.load(url)\n",
    "one_channel = wav.sum(dim=0).abs()\n",
    "two_channels = -wav.abs()\n",
    "wv.Audio((wav, sr), {\"1\": one_channel, \"2\": two_channels}, minimal=True)"
   ]
  },
  {
   "cell_type": "code",
   "execution_count": null,
   "metadata": {},
   "outputs": [],
   "source": []
  }
 ],
 "metadata": {
  "kernelspec": {
   "display_name": "Python 3",
   "language": "python",
   "name": "python3"
  },
  "language_info": {
   "codemirror_mode": {
    "name": "ipython",
    "version": 3
   },
   "file_extension": ".py",
   "mimetype": "text/x-python",
   "name": "python",
   "nbconvert_exporter": "python",
   "pygments_lexer": "ipython3",
   "version": "3.10.14"
  }
 },
 "nbformat": 4,
 "nbformat_minor": 2
}
