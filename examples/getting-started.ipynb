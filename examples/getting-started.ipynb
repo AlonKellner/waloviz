{
 "cells": [
  {
   "cell_type": "code",
   "execution_count": null,
   "metadata": {},
   "outputs": [],
   "source": [
    "import sys\n",
    "sys.path.append(\"/workspaces/waloviz/src\")\n",
    "sys.path.append(\"/home/runner/work/waloviz/waloviz/src\")"
   ]
  },
  {
   "cell_type": "markdown",
   "metadata": {},
   "source": [
    "# TL;DR"
   ]
  },
  {
   "cell_type": "markdown",
   "metadata": {},
   "source": [
    "```\n",
    "pip install waloviz\n",
    "apt-get install ffmpeg\n",
    "```"
   ]
  },
  {
   "cell_type": "code",
   "execution_count": null,
   "metadata": {},
   "outputs": [],
   "source": [
    "import waloviz as wv\n",
    "wv.extension()"
   ]
  },
  {
   "cell_type": "code",
   "execution_count": null,
   "metadata": {},
   "outputs": [],
   "source": [
    "wv.Audio('https://www2.cs.uic.edu/~i101/SoundFiles/CantinaBand3.wav')"
   ]
  },
  {
   "cell_type": "markdown",
   "metadata": {},
   "source": [
    "# Explanation\n",
    "`waloviz` was built to be as accessible as possible, whether you're using colab, jupyter, JupyterLab, VSCode or just pure HTML - you'll only need three lines of code.  \n",
    "\n",
    "First we need to install `waloviz`:\n",
    "```\n",
    "pip install waloviz\n",
    "```\n",
    "We also need to install `ffmpeg` as a backend for `torchaudio`:\n",
    "```\n",
    "apt-get install ffmpeg\n",
    "``` \n",
    "\n",
    "Then we need to import `waloviz` and activate the extension:  \n",
    "```python\n",
    "import wavloviz as wv\n",
    "wv.extension()\n",
    "```\n",
    "\n",
    "Then we need to call `wv.Audio` with our URL or file-path:\n",
    "```python\n",
    "wv.Audio('https://www2.cs.uic.edu/~i101/SoundFiles/CantinaBand3.wav')\n",
    "```\n",
    "\n",
    "And... that's it, you're done.  \n",
    "You can use the player to interact with your audio.  \n",
    "\n",
    "## Using the player\n",
    "The controls are pretty intuitive, but here are the most important controls you should to know:  \n",
    "1. A single click anywhere - toggles play\\pause.\n",
    "2. Scrolling with the mouse wheel - zooms in\\out.\n",
    "3. Dragging the mouse while pressing down - moves forwards\\backwards.\n",
    "4. The small ↺ icon on the top left - resets to the initial view.\n",
    "5. Clicking on the `Download waloviz.html` - will download an HTML version of the player.\n",
    "\n",
    "To learn more, read our [User Guide](./user_guide.md)."
   ]
  }
 ],
 "metadata": {
  "kernelspec": {
   "display_name": "Python 3",
   "language": "python",
   "name": "python3"
  },
  "language_info": {
   "codemirror_mode": {
    "name": "ipython",
    "version": 3
   },
   "file_extension": ".py",
   "mimetype": "text/x-python",
   "name": "python",
   "nbconvert_exporter": "python",
   "pygments_lexer": "ipython3",
   "version": "3.10.14"
  }
 },
 "nbformat": 4,
 "nbformat_minor": 2
}
